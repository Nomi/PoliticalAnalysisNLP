{
 "cells": [
  {
   "cell_type": "code",
   "execution_count": 31,
   "id": "f952f6d9",
   "metadata": {
    "scrolled": true
   },
   "outputs": [],
   "source": [
    "%%capture\n",
    "%run ProjectWebScraping.ipynb"
   ]
  },
  {
   "cell_type": "code",
   "execution_count": 14,
   "id": "f7e3b5f5",
   "metadata": {},
   "outputs": [
    {
     "data": {
      "text/plain": [
       "<Text: Preamble In 2016 , Democrats meet in Philadelphia...>"
      ]
     },
     "execution_count": 14,
     "metadata": {},
     "output_type": "execute_result"
    }
   ],
   "source": [
    "text_dem_platform_2016"
   ]
  },
  {
   "cell_type": "code",
   "execution_count": 15,
   "id": "291e97c0",
   "metadata": {},
   "outputs": [
    {
     "data": {
      "text/plain": [
       "<Text: We believe in American exceptionalism . We believe...>"
      ]
     },
     "execution_count": 15,
     "metadata": {},
     "output_type": "execute_result"
    }
   ],
   "source": [
    "text_rep_platform_2016"
   ]
  },
  {
   "cell_type": "code",
   "execution_count": 29,
   "id": "1849f379",
   "metadata": {},
   "outputs": [
    {
     "data": {
      "image/png": "[encoded data removed]",
      "text/plain": [
       "<Figure size 432x288 with 1 Axes>"
      ]
     },
     "metadata": {
      "needs_background": "light"
     },
     "output_type": "display_data"
    }
   ],
   "source": [
    "text_dem_debate_2016.dispersion_plot([\"citizens\", \"democracy\", \"freedom\", \"duties\", \"America\"])"
   ]
  }
 ],
 "metadata": {
  "kernelspec": {
   "display_name": "Python 3 (ipykernel)",
   "language": "python",
   "name": "python3"
  },
  "language_info": {
   "codemirror_mode": {
    "name": "ipython",
    "version": 3
   },
   "file_extension": ".py",
   "mimetype": "text/x-python",
   "name": "python",
   "nbconvert_exporter": "python",
   "pygments_lexer": "ipython3",
   "version": "3.8.10"
  }
 },
 "nbformat": 4,
 "nbformat_minor": 5
}
