{
 "cells": [
  {
   "cell_type": "code",
   "execution_count": 19,
   "id": "f952f6d9",
   "metadata": {
    "scrolled": true
   },
   "outputs": [],
   "source": [
    "%%capture\n",
    "%run ProjectWebScraping.ipynb"
   ]
  },
  {
   "cell_type": "code",
   "execution_count": 21,
   "id": "5cf75092",
   "metadata": {},
   "outputs": [],
   "source": [
    "from nltk import FreqDist"
   ]
  },
  {
   "cell_type": "code",
   "execution_count": 25,
   "id": "e9a4bdb8",
   "metadata": {},
   "outputs": [
    {
     "data": {
      "text/plain": [
       "[('american', 179),\n",
       " ('democrat', 177),\n",
       " ('health', 127),\n",
       " ('support', 127),\n",
       " ('believe', 117),\n",
       " ('people', 111),\n",
       " ('right', 104),\n",
       " ('community', 102),\n",
       " ('must', 91),\n",
       " ('also', 82),\n",
       " ('country', 79),\n",
       " ('public', 79),\n",
       " ('work', 76),\n",
       " ('state', 74),\n",
       " ('make', 72),\n",
       " ('family', 65),\n",
       " ('care', 65),\n",
       " ('federal', 65),\n",
       " ('job', 63),\n",
       " ('need', 62),\n",
       " ('including', 62),\n",
       " ('service', 59),\n",
       " ('fight', 58),\n",
       " ('program', 58),\n",
       " ('worker', 56)]"
      ]
     },
     "execution_count": 25,
     "metadata": {},
     "output_type": "execute_result"
    }
   ],
   "source": [
    "fdist1 = FreqDist(nltk.Text(lemmatized_tokens_dem_platform_2016))\n",
    "fdist1.most_common(25)"
   ]
  },
  {
   "cell_type": "code",
   "execution_count": 27,
   "id": "81267010",
   "metadata": {},
   "outputs": [
    {
     "data": {
      "text/plain": [
       "[('state', 184),\n",
       " ('american', 174),\n",
       " ('government', 159),\n",
       " ('federal', 134),\n",
       " ('right', 129),\n",
       " ('must', 126),\n",
       " ('republican', 118),\n",
       " ('support', 104),\n",
       " ('people', 103),\n",
       " ('law', 102),\n",
       " ('national', 86),\n",
       " ('u', 83),\n",
       " ('congress', 81),\n",
       " ('president', 73),\n",
       " ('policy', 65),\n",
       " ('current', 65),\n",
       " ('country', 63),\n",
       " ('family', 62),\n",
       " ('new', 60),\n",
       " ('public', 60),\n",
       " ('program', 60),\n",
       " ('united', 58),\n",
       " ('economic', 56),\n",
       " ('security', 56),\n",
       " ('need', 54),\n",
       " ('power', 53),\n",
       " ('nation', 52),\n",
       " ('economy', 51),\n",
       " ('military', 51),\n",
       " ('act', 51),\n",
       " ('job', 50),\n",
       " ('private', 50),\n",
       " ('call', 50),\n",
       " ('administration', 50),\n",
       " ('world', 49),\n",
       " ('year', 49),\n",
       " ('life', 48),\n",
       " ('business', 48),\n",
       " ('religious', 48),\n",
       " ('community', 48),\n",
       " ('education', 48),\n",
       " ('first', 47),\n",
       " ('party', 47),\n",
       " ('service', 47),\n",
       " ('health', 46),\n",
       " ('freedom', 45),\n",
       " ('tax', 45),\n",
       " ('amendment', 45),\n",
       " ('america', 44),\n",
       " ('system', 44)]"
      ]
     },
     "execution_count": 27,
     "metadata": {},
     "output_type": "execute_result"
    }
   ],
   "source": [
    "fdist1 = FreqDist(nltk.Text(lemmatized_tokens_rep_platform_2016))\n",
    "fdist1.most_common(50)"
   ]
  },
  {
   "cell_type": "code",
   "execution_count": null,
   "id": "9cf1fba2",
   "metadata": {},
   "outputs": [],
   "source": []
  }
 ],
 "metadata": {
  "kernelspec": {
   "display_name": "Python 3 (ipykernel)",
   "language": "python",
   "name": "python3"
  },
  "language_info": {
   "codemirror_mode": {
    "name": "ipython",
    "version": 3
   },
   "file_extension": ".py",
   "mimetype": "text/x-python",
   "name": "python",
   "nbconvert_exporter": "python",
   "pygments_lexer": "ipython3",
   "version": "3.9.5"
  }
 },
 "nbformat": 4,
 "nbformat_minor": 5
}
