{
 "cells": [
  {
   "cell_type": "code",
   "execution_count": 1,
   "id": "f952f6d9",
   "metadata": {},
   "outputs": [],
   "source": [
    "%%capture\n",
    "%run ProjectWebScraping.ipynb"
   ]
  },
  {
   "cell_type": "code",
   "execution_count": 3,
   "id": "f7e3b5f5",
   "metadata": {},
   "outputs": [
    {
     "data": {
      "text/plain": [
       "<Text: Preamble In 2016 , Democrats meet in Philadelphia...>"
      ]
     },
     "execution_count": 3,
     "metadata": {},
     "output_type": "execute_result"
    }
   ],
   "source": [
    "text_dem_platform"
   ]
  },
  {
   "cell_type": "code",
   "execution_count": 4,
   "id": "291e97c0",
   "metadata": {},
   "outputs": [
    {
     "data": {
      "text/plain": [
       "<Text: We believe in American exceptionalism . We believe...>"
      ]
     },
     "execution_count": 4,
     "metadata": {},
     "output_type": "execute_result"
    }
   ],
   "source": [
    "text_rep_platform"
   ]
  }
 ],
 "metadata": {
  "kernelspec": {
   "display_name": "Python 3 (ipykernel)",
   "language": "python",
   "name": "python3"
  },
  "language_info": {
   "codemirror_mode": {
    "name": "ipython",
    "version": 3
   },
   "file_extension": ".py",
   "mimetype": "text/x-python",
   "name": "python",
   "nbconvert_exporter": "python",
   "pygments_lexer": "ipython3",
   "version": "3.10.1"
  }
 },
 "nbformat": 4,
 "nbformat_minor": 5
}
